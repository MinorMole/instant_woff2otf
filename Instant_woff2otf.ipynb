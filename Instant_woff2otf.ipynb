{
  "nbformat": 4,
  "nbformat_minor": 0,
  "metadata": {
    "colab": {
      "name": "Instant woff2otf",
      "version": "0.3.2",
      "provenance": [],
      "toc_visible": true,
      "include_colab_link": true
    },
    "kernelspec": {
      "name": "python3",
      "display_name": "Python 3"
    }
  },
  "cells": [
    {
      "cell_type": "markdown",
      "metadata": {
        "id": "view-in-github",
        "colab_type": "text"
      },
      "source": [
        "<a href=\"https://colab.research.google.com/github/MinorMole/instant_woff2otf/blob/master/Instant_woff2otf.ipynb\" target=\"_parent\"><img src=\"https://colab.research.google.com/assets/colab-badge.svg\" alt=\"Open In Colab\"/></a>"
      ]
    },
    {
      "cell_type": "markdown",
      "metadata": {
        "id": "1PYPVuyc9g4S",
        "colab_type": "text"
      },
      "source": [
        "#### 📚 For more information please visit our [GitHub](https://github.com/MinorMole/instant_woff2otf/)."
      ]
    },
    {
      "cell_type": "code",
      "metadata": {
        "id": "zJr1kmWH4owA",
        "colab_type": "code",
        "cellView": "form",
        "colab": {}
      },
      "source": [
        "#@markdown <h3>📌 Run this cell to start.</h3>\n",
        "\n",
        "import os, time; from google.colab import files; from IPython.display import HTML, clear_output\n",
        "\n",
        "if os.path.isfile(\"/root/.woff2otf/woff2otf.py\") == False:\n",
        "  !rm -rf /content/sample_data/ && mkdir -p -m 666 /root/.woff2otf/ && wget -q https://raw.githubusercontent.com/MinorMole/instant_woff2otf/master/res/woff2otf.py -O /root/.woff2otf/woff2otf.py\n",
        "try:\n",
        "  display(HTML(\"<h2 style=\\\"font-family:Trebuchet MS;color:#446785;\\\">Please upload 'woff' font from your computer.</h2><br>\"))\n",
        "  UploadConfig = files.upload().keys()\n",
        "  clear_output()\n",
        "  if len(UploadConfig) == 0:\n",
        "    display(HTML(\"<center><h2 style=\\\"font-family:Trebuchet MS;color:#ce2121;\\\">File upload has been cancelled during upload file.</h2><br></center>\"))\n",
        "  else:\n",
        "    !rm -f /root/.woff2otf/converted_font.zip && rm -rf /root/.woff2otf/cache/ && mkdir -p -m 666 /root/.woff2otf/cache/\n",
        "    for filename in os.listdir(\"/content/\"):\n",
        "      if filename.endswith(\".woff\"):\n",
        "        get_ipython().system_raw(\"python /root/.woff2otf/woff2otf.py\" + \" \" + os.path.join('/content/', filename) + \" \" + os.path.join('/root/.woff2otf/cache/', filename.replace('.woff', '.otf')) + \" && rm -f \" + os.path.join('/content/', filename))\n",
        "        continue\n",
        "    ### Compressing File.\n",
        "    !zip -r -q -j -9 /root/.woff2otf/converted_font.zip /root/.woff2otf/cache/\n",
        "    ### Send Zip File\n",
        "    try:\n",
        "      files.download(\"/root/.woff2otf/converted_font.zip\")\n",
        "      display(HTML(\"<center><h2 style=\\\"font-family:Trebuchet MS;color:#446785;\\\">Sending font to your computer...</h2><br></center>\"))\n",
        "    except:\n",
        "      !mv /root/.woff2otf/converted_font.zip /content/converted_font_$(date +%Y-%m-%d_%H.%M.%S).zip\n",
        "      display(HTML(\"<center><h2 style=\\\"font-family:Trebuchet MS;color:#446785;\\\">You can use file explorer to download the font file.</h2><br><img src=\\\"https://github.com/MinorMole/instant_woff2otf/raw/master/img/01.png\\\"><br></center>\"))\n",
        "except:\n",
        "  clear_output()\n",
        "  display(HTML(\"<center><h2 style=\\\"font-family:Trebuchet MS;color:#ce2121;\\\">Error occurred during upload file.</h2><br></center>\"))"
      ],
      "execution_count": 0,
      "outputs": []
    }
  ]
}